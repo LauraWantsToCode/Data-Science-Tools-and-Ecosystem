{
 "cells": [
  {
   "cell_type": "markdown",
   "id": "0ed272f5-70c9-47ad-bb2c-c57311c81f54",
   "metadata": {},
   "source": [
    "# Data Science Tools and Ecosystem"
   ]
  },
  {
   "cell_type": "markdown",
   "id": "051a2712-df11-45a2-bd00-76ab051d30ae",
   "metadata": {},
   "source": [
    "In this notebook, Data Science Tools and Ecosystem are summarized."
   ]
  },
  {
   "cell_type": "markdown",
   "id": "01ae2da9-935a-4997-9be5-607c83842844",
   "metadata": {},
   "source": [
    "**Objectives:**\n",
    "- List popular languages for Data Science\n",
    "- List commonly used libraries for Data Science\n",
    "- List data science tools"
   ]
  },
  {
   "attachments": {},
   "cell_type": "markdown",
   "id": "ad1582b7-d13c-4e50-a861-53c6625b76a8",
   "metadata": {},
   "source": [
    "Some of the popular languages that Data Scientists use are:\n",
    "1. Python\n",
    "2. SQL\n",
    "3. R"
   ]
  },
  {
   "cell_type": "code",
   "execution_count": null,
   "id": "77920c48-a455-4a55-ad84-200bac590b33",
   "metadata": {},
   "outputs": [],
   "source": [
    "Some of the commonly used libraries used by Data Scientists include:\n",
    "1. Pandas\n",
    "2. Matplotlib\n",
    "3. TensorFlow"
   ]
  },
  {
   "cell_type": "markdown",
   "id": "ce75a782-18ff-42f6-909a-1c3ea37e9945",
   "metadata": {},
   "source": [
    "|Data Science Tools|\n",
    "|------------------|\n",
    "|Jupyter Notebook|\n",
    "|RStudio|\n",
    "|Apache Spark|"
   ]
  },
  {
   "cell_type": "markdown",
   "id": "e194f42b-add6-4747-8f5a-4d5efe3db45c",
   "metadata": {},
   "source": [
    "### Below are a few examples of evaluating arithmetic expressions in Python"
   ]
  },
  {
   "cell_type": "markdown",
   "id": "89af809a-ce07-429f-b3b3-6405956d58aa",
   "metadata": {},
   "source": [
    "3+3"
   ]
  },
  {
   "cell_type": "markdown",
   "id": "b61892c2-8d52-4902-a201-3ecf88f65555",
   "metadata": {},
   "source": [
    "2*5"
   ]
  },
  {
   "cell_type": "markdown",
   "id": "9620e1a7-f6ca-4c19-9650-032ae1ceb830",
   "metadata": {},
   "source": [
    "10-3"
   ]
  },
  {
   "cell_type": "code",
   "execution_count": 4,
   "id": "ccaa4c9e-3c33-40a7-ae33-8b02aace41c1",
   "metadata": {},
   "outputs": [
    {
     "data": {
      "text/plain": [
       "17"
      ]
     },
     "execution_count": 4,
     "metadata": {},
     "output_type": "execute_result"
    }
   ],
   "source": [
    "# This a simple arithmetic expression to mutiply then add integers\n",
    "(3*4)+5"
   ]
  },
  {
   "cell_type": "code",
   "execution_count": 5,
   "id": "73d3b40f-fae1-47e7-80fb-626a292d98c2",
   "metadata": {},
   "outputs": [
    {
     "data": {
      "text/plain": [
       "3.3333333333333335"
      ]
     },
     "execution_count": 5,
     "metadata": {},
     "output_type": "execute_result"
    }
   ],
   "source": [
    "#This will convert 200 minutes to hours by diving by 60 \n",
    "200/60"
   ]
  },
  {
   "cell_type": "markdown",
   "id": "ee95541e-e067-4c50-8660-2cd3fca610bd",
   "metadata": {},
   "source": [
    "## Author\n",
    "Laura"
   ]
  },
  {
   "cell_type": "code",
   "execution_count": null,
   "id": "ff5cce8a-f925-48ed-b045-a38cf958f445",
   "metadata": {},
   "outputs": [],
   "source": []
  }
 ],
 "metadata": {
  "kernelspec": {
   "display_name": "Python 3 (ipykernel)",
   "language": "python",
   "name": "python3"
  },
  "language_info": {
   "codemirror_mode": {
    "name": "ipython",
    "version": 3
   },
   "file_extension": ".py",
   "mimetype": "text/x-python",
   "name": "python",
   "nbconvert_exporter": "python",
   "pygments_lexer": "ipython3",
   "version": "3.11.9"
  }
 },
 "nbformat": 4,
 "nbformat_minor": 5
}
